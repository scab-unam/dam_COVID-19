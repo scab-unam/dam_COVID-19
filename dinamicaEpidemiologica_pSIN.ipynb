{
  "nbformat": 4,
  "nbformat_minor": 0,
  "metadata": {
    "kernelspec": {
      "display_name": "Python 3",
      "language": "python",
      "name": "python3"
    },
    "language_info": {
      "codemirror_mode": {
        "name": "ipython",
        "version": 3
      },
      "file_extension": ".py",
      "mimetype": "text/x-python",
      "name": "python",
      "nbconvert_exporter": "python",
      "pygments_lexer": "ipython3",
      "version": "3.8.5"
    },
    "colab": {
      "name": "dinamicaEpidemiologica_pSIN.ipynb",
      "provenance": [],
      "include_colab_link": true
    }
  },
  "cells": [
    {
      "cell_type": "markdown",
      "metadata": {
        "id": "view-in-github",
        "colab_type": "text"
      },
      "source": [
        "<a href=\"https://colab.research.google.com/github/scab-unam/dam_COVID-19/blob/damCOVID19_curandero/dinamicaEpidemiologica_pSIN.ipynb\" target=\"_parent\"><img src=\"https://colab.research.google.com/assets/colab-badge.svg\" alt=\"Open In Colab\"/></a>"
      ]
    },
    {
      "cell_type": "markdown",
      "metadata": {
        "id": "m-37hx7vbNxC"
      },
      "source": [
        "# Dinámica epidemiológica de enfermedades infecciosas: evolución básica\n",
        "## Marco Arieli Herrera-Valdez\n",
        "### Laboratorio de Fisiología de Sistemas, Departamento de Matemáticas, Facultad de Ciencias, UNAM\n",
        "\n",
        "Última modificación: 20201219, MAHV"
      ]
    },
    {
      "cell_type": "code",
      "metadata": {
        "id": "nM0-9Iu5bNxH"
      },
      "source": [
        "import numpy as np\n",
        "import numpy.random as rd\n",
        "import matplotlib.pylab as pl"
      ],
      "execution_count": 2,
      "outputs": []
    },
    {
      "cell_type": "markdown",
      "metadata": {
        "id": "aWNgKn6TbNxJ"
      },
      "source": [
        "## Modelo simple de dinámica aleatoria epidemiológica macroscópica (pSIN)\n",
        "\n",
        "Suponga que la población en un tiempo $t$ está dividida en 3 subconjuntos de personas _no susceptibles_ _susceptibles_, e _infectadas_, por un patógeno (e.g. SARS-CoV-2). Suponga que los tamaños de los tres subconjuntos están representados por las variables $N$, $S$, y $I$, respectivamente. Sea $T(t) = S(t)+I(t)+N(t)$ el tamaño total de la población en tiempo $t$.  Suponga que para cada tiempo $t$ sólo una fracción $\\varepsilon(t)$ de individuos susceptibles está expuesta al patógeno y que las infecciones entre individuos ocurren de manera independiente, con el mismo inóculo promedio por infección. La probabilidad de infección, $p$, depende entonces del número de infectados y de la exposición de los infectados. \n",
        "Los individuos dejan de estar infectados después de un tiempo promedio $\\tau$. Por el momento, supondremos que no hay decesos por infección y que los recuperados no vuelven a infectarse y por tanto, se vuelven parte del gupo de no suceptibles. \n",
        "\n",
        "\n",
        "Los individuos recien infectados y recién recuperados en cada momento son variables aleatorias. El número de nuevos infectados se puede pensar como resultado de un muestreo entre los susceptibles expuestos que depende de su probabilidad de ser inoculados e infectados con el patógeno, y de la cantidad de infectados distribuyendo inóculo en el ambiente. Con base en la hipótesis de independencia entre las infecciones, se puede entonces suponer que cada infección es un ensayo Bernoulli con probabilidad de éxito $p$, y que el número de infectados es entonces una variable aleatoria binomial con número de ensayos igual a $\\lfloor \\varepsilon S \\rfloor$.\n",
        "\n",
        "\n",
        "### Epidemiología sin decesos\n",
        "Los recien recuperados también se pueden pensar como resultado de un muestreo entre los infectados con una probabilidad de recuperación que depende directamente de la probabilidad de que haya al menos una recuperación en un intervalo de longitud $\\delta/\\tau$ (ver distribución acumulada de variables aleatorias gamma en para el caso en el que el parámetro de forma es discreto y su relación con variables Poisson, Hoel, Port, Stone, 173, pg. 128).  \n",
        "\n",
        " Los individuos recién recuperados en el tiempo $t$ también se pueden pensar como una variable aleatoria binomial con número de ensayos igual a $I(t)$, y \n",
        "$$\n",
        "q= P( \\textrm{al menos una recuperación en un tiempo }\\delta) = 1 - \\exp(-\\delta/\\tau) \n",
        "$$ \n",
        "La dinámica epidemiológica poblacional se puede entonces describir como en términos de la evolución de la tripleta $(S,I,N)$ de acuerdo con\n",
        "\\begin{eqnarray}\n",
        "S(t+\\delta) &=& S(t) - X(t)\n",
        "\\\\\n",
        "I(t+\\delta) &=& I(t) + X(t) - Y(t)\n",
        "\\\\\n",
        "N(t+\\delta) &=& Y(t)\n",
        "\\end{eqnarray}\n",
        "con $X \\sim Bin(\\lfloor \\varepsilon S \\rfloor, p)$ y $Y\\sim Bin(I,q)$."
      ]
    },
    {
      "cell_type": "code",
      "metadata": {
        "id": "3JkKfrdJbNxJ"
      },
      "source": [
        "# Función para producir la dinámica de evolución en cada paso en el tiempo\n",
        "def SIN(p,S=100, I=1, N=10): \n",
        "    T = S+I+N\n",
        "    expS = np.floor(p['epsilonS']*S) ; #print(expS)\n",
        "    prev = I/T; #print('Prev = {}'.format(prev))\n",
        "    pInf = p['delta'] * p['epsilonS'] * p['beta'] * prev\n",
        "    pRec = 1 - np.exp(-p['delta']/p['tau'])\n",
        "    X= rd.binomial(expS,pInf)\n",
        "    Y= rd.binomial(I,pRec)\n",
        "    return X,Y,pInf, pRec"
      ],
      "execution_count": 3,
      "outputs": []
    },
    {
      "cell_type": "code",
      "metadata": {
        "colab": {
          "base_uri": "https://localhost:8080/"
        },
        "id": "Lb6LJl6vbNxL",
        "outputId": "e6e10da7-5b49-444b-dcb4-5fde72b4089e"
      },
      "source": [
        "# Chequeo de la función SIN\n",
        "p={'beta':0.5,'epsilonS':0.5,'tau':21.0,'delta':1,'S0':100,'I0':10,'N0':10, 'delta':1.0,'nDays':200}\n",
        "SIN(p, S=p['S0'], I=p['I0'], N=p['N0'])"
      ],
      "execution_count": 4,
      "outputs": [
        {
          "output_type": "execute_result",
          "data": {
            "text/plain": [
              "(2, 1, 0.020833333333333332, 0.04650304516652326)"
            ]
          },
          "metadata": {
            "tags": []
          },
          "execution_count": 4
        }
      ]
    },
    {
      "cell_type": "code",
      "metadata": {
        "id": "EkXA7RgdbNxM"
      },
      "source": [
        "# Iteración para observar la dinámica de la función SIN\n",
        "def iterSIN(p):\n",
        "    p['nSteps']= np.int32(p['nDays']/p['timeStep'])\n",
        "    S= np.zeros(p['nSteps'])\n",
        "    I= np.zeros(p['nSteps'])\n",
        "    N= np.zeros(p['nSteps'])\n",
        "    pInfection= np.zeros(p['nSteps'])\n",
        "    pRecovery= np.zeros(p['nSteps'])\n",
        "    S[0],I[0],N[0]=p['S0'],p['I0'],p['N0']\n",
        "    for nn in range(1,p['nSteps']):\n",
        "        X,Y,pInf,pRec = SIN(p,S=S[nn-1],I=I[nn-1],N=N[nn-1])\n",
        "        S[nn] = S[nn-1] - X\n",
        "        I[nn] = I[nn-1] + X -Y\n",
        "        N[nn] = N[nn-1] + Y\n",
        "        pInfection[nn] = pInf\n",
        "        pRecovery[nn] = pRec\n",
        "    return S,I,N,pInfection,pRecovery\n",
        "\n",
        "\n",
        "        "
      ],
      "execution_count": 5,
      "outputs": []
    },
    {
      "cell_type": "markdown",
      "metadata": {
        "id": "wFnJqTsvbNxN"
      },
      "source": [
        "### Dinámica de (S,I,N)"
      ]
    },
    {
      "cell_type": "code",
      "metadata": {
        "colab": {
          "base_uri": "https://localhost:8080/",
          "height": 338
        },
        "id": "8tdf7VBzbNxN",
        "outputId": "3b90c05b-17f1-4c3c-8406-039ce853d219"
      },
      "source": [
        "p={'beta':0.5,'epsilonS':0.5,'tau':21.0,'delta':1,'S0':400,'I0':1,'N0':1, 'timeStep':1.0/1.0,'nDays':300}\n",
        "timeSamples = np.arange(0,p['nDays'],p['timeStep'])\n",
        "S,I,N,pInfect,pRecov = iterSIN(p)\n",
        "f0 = pl.figure(figsize=(18,5))\n",
        "pl.plot(N,label=r'$N(t)$')\n",
        "pl.plot(I,label=r'$I(t)$')\n",
        "pl.plot(S,label=r'$S(t)$')\n",
        "pl.legend(fontsize=13)\n"
      ],
      "execution_count": 28,
      "outputs": [
        {
          "output_type": "execute_result",
          "data": {
            "text/plain": [
              "<matplotlib.legend.Legend at 0x7fc47a6737f0>"
            ]
          },
          "metadata": {
            "tags": []
          },
          "execution_count": 28
        },
        {
          "output_type": "display_data",
          "data": {
            "image/png": "[encoded data removed]",
            "text/plain": [
              "<Figure size 1296x360 with 1 Axes>"
            ]
          },
          "metadata": {
            "tags": [],
            "needs_background": "light"
          }
        }
      ]
    },
    {
      "cell_type": "markdown",
      "metadata": {
        "id": "lY0JmhMR0eSb"
      },
      "source": [
        ""
      ]
    },
    {
      "cell_type": "code",
      "metadata": {
        "id": "-MVtzHc4bNxP"
      },
      "source": [
        ""
      ],
      "execution_count": null,
      "outputs": []
    },
    {
      "cell_type": "markdown",
      "metadata": {
        "id": "okVAj-NH1QQ0"
      },
      "source": [
        "Evolución de las distribuciones de probabilidad de infección"
      ]
    },
    {
      "cell_type": "code",
      "metadata": {
        "id": "umzehIJZ1o3O"
      },
      "source": [
        ""
      ],
      "execution_count": null,
      "outputs": []
    }
  ]
}